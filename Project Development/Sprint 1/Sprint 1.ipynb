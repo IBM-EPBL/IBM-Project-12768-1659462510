{
 "cells": [
  {
   "cell_type": "markdown",
   "metadata": {},
   "source": [
    "# Importing Libraries"
   ]
  },
  {
   "cell_type": "code",
   "execution_count": 15,
   "metadata": {},
   "outputs": [],
   "source": [
    "import numpy as np\n",
    "import pandas as pd\n",
    "import seaborn as sns"
   ]
  },
  {
   "cell_type": "markdown",
   "metadata": {},
   "source": [
    "**1.Connecting to dataset** "
   ]
  },
  {
   "cell_type": "code",
   "execution_count": 16,
   "metadata": {},
   "outputs": [],
   "source": [
    "df=pd.read_csv(\"D:/nalaya thiran/datafile_02.csv\")"
   ]
  },
  {
   "cell_type": "markdown",
   "metadata": {},
   "source": [
    "**printing all column names and head( first 5 records)**"
   ]
  },
  {
   "cell_type": "code",
   "execution_count": 17,
   "metadata": {},
   "outputs": [
    {
     "name": "stdout",
     "output_type": "stream",
     "text": [
      "Index(['Port', 'Traffic in Eleventh Plan (MT) (2011-12)Proj.',\n",
      "       'Traffic in Eleventh Plan (MT) (2011-12) Ach.',\n",
      "       'Traffic in Eleventh Plan (MT) (2011-12) %',\n",
      "       'Total Capacity  in Eleventh Plan (MT) (2011-12) Proj.',\n",
      "       'Total Capacity  in Eleventh Plan (MT) (2011-12) Ach.',\n",
      "       'Total Capacity  in Eleventh Plan (MT) (2011-12) %'],\n",
      "      dtype='object')\n"
     ]
    },
    {
     "data": {
      "text/html": [
       "<div>\n",
       "<style scoped>\n",
       "    .dataframe tbody tr th:only-of-type {\n",
       "        vertical-align: middle;\n",
       "    }\n",
       "\n",
       "    .dataframe tbody tr th {\n",
       "        vertical-align: top;\n",
       "    }\n",
       "\n",
       "    .dataframe thead th {\n",
       "        text-align: right;\n",
       "    }\n",
       "</style>\n",
       "<table border=\"1\" class=\"dataframe\">\n",
       "  <thead>\n",
       "    <tr style=\"text-align: right;\">\n",
       "      <th></th>\n",
       "      <th>Port</th>\n",
       "      <th>Traffic in Eleventh Plan (MT) (2011-12)Proj.</th>\n",
       "      <th>Traffic in Eleventh Plan (MT) (2011-12) Ach.</th>\n",
       "      <th>Traffic in Eleventh Plan (MT) (2011-12) %</th>\n",
       "      <th>Total Capacity  in Eleventh Plan (MT) (2011-12) Proj.</th>\n",
       "      <th>Total Capacity  in Eleventh Plan (MT) (2011-12) Ach.</th>\n",
       "      <th>Total Capacity  in Eleventh Plan (MT) (2011-12) %</th>\n",
       "    </tr>\n",
       "  </thead>\n",
       "  <tbody>\n",
       "    <tr>\n",
       "      <th>0</th>\n",
       "      <td>Kolkata</td>\n",
       "      <td>1343</td>\n",
       "      <td>1223</td>\n",
       "      <td>9100</td>\n",
       "      <td>3145</td>\n",
       "      <td>1635</td>\n",
       "      <td>5100</td>\n",
       "    </tr>\n",
       "    <tr>\n",
       "      <th>1</th>\n",
       "      <td>Haldia</td>\n",
       "      <td>4450</td>\n",
       "      <td>3101</td>\n",
       "      <td>7000</td>\n",
       "      <td>6340</td>\n",
       "      <td>5070</td>\n",
       "      <td>7900</td>\n",
       "    </tr>\n",
       "    <tr>\n",
       "      <th>2</th>\n",
       "      <td>Paradeep</td>\n",
       "      <td>7640</td>\n",
       "      <td>5425</td>\n",
       "      <td>7100</td>\n",
       "      <td>10640</td>\n",
       "      <td>7650</td>\n",
       "      <td>7100</td>\n",
       "    </tr>\n",
       "    <tr>\n",
       "      <th>3</th>\n",
       "      <td>Visakhapatnam</td>\n",
       "      <td>8220</td>\n",
       "      <td>6742</td>\n",
       "      <td>8200</td>\n",
       "      <td>10810</td>\n",
       "      <td>7293</td>\n",
       "      <td>6700</td>\n",
       "    </tr>\n",
       "    <tr>\n",
       "      <th>4</th>\n",
       "      <td>Ennore</td>\n",
       "      <td>4700</td>\n",
       "      <td>1496</td>\n",
       "      <td>3200</td>\n",
       "      <td>6420</td>\n",
       "      <td>3100</td>\n",
       "      <td>4800</td>\n",
       "    </tr>\n",
       "  </tbody>\n",
       "</table>\n",
       "</div>"
      ],
      "text/plain": [
       "            Port  Traffic in Eleventh Plan (MT) (2011-12)Proj.  \\\n",
       "0        Kolkata                                          1343   \n",
       "1         Haldia                                          4450   \n",
       "2       Paradeep                                          7640   \n",
       "3  Visakhapatnam                                          8220   \n",
       "4         Ennore                                          4700   \n",
       "\n",
       "   Traffic in Eleventh Plan (MT) (2011-12) Ach.  \\\n",
       "0                                          1223   \n",
       "1                                          3101   \n",
       "2                                          5425   \n",
       "3                                          6742   \n",
       "4                                          1496   \n",
       "\n",
       "   Traffic in Eleventh Plan (MT) (2011-12) %  \\\n",
       "0                                       9100   \n",
       "1                                       7000   \n",
       "2                                       7100   \n",
       "3                                       8200   \n",
       "4                                       3200   \n",
       "\n",
       "   Total Capacity  in Eleventh Plan (MT) (2011-12) Proj.  \\\n",
       "0                                               3145       \n",
       "1                                               6340       \n",
       "2                                              10640       \n",
       "3                                              10810       \n",
       "4                                               6420       \n",
       "\n",
       "   Total Capacity  in Eleventh Plan (MT) (2011-12) Ach.  \\\n",
       "0                                               1635      \n",
       "1                                               5070      \n",
       "2                                               7650      \n",
       "3                                               7293      \n",
       "4                                               3100      \n",
       "\n",
       "   Total Capacity  in Eleventh Plan (MT) (2011-12) %  \n",
       "0                                               5100  \n",
       "1                                               7900  \n",
       "2                                               7100  \n",
       "3                                               6700  \n",
       "4                                               4800  "
      ]
     },
     "execution_count": 17,
     "metadata": {},
     "output_type": "execute_result"
    }
   ],
   "source": [
    "print(df.columns)\n",
    "df.head()"
   ]
  },
  {
   "cell_type": "markdown",
   "metadata": {},
   "source": [
    "# Preprocessing the Dataset"
   ]
  },
  {
   "cell_type": "markdown",
   "metadata": {},
   "source": [
    "**Renamining the column**"
   ]
  },
  {
   "cell_type": "code",
   "execution_count": 18,
   "metadata": {},
   "outputs": [],
   "source": [
    "df.rename(columns = {'Traffic in Eleventh Plan (MT) (2011-12)Proj.':'Traffic_Projected','Traffic in Eleventh Plan (MT) (2011-12)Ach.':'Traffic_Achieved', 'Total Capacity in Eleventh Plan (MT)(2011-12) Proj.':'Total_Capacity_Projected', 'Total Capacity in Eleventh Plan (MT) (2011-12) Ach.':'Total_Capacity_Achieved'}, inplace= True)\n",
    "df.rename(columns = {'Traffic in Eleventh Plan (MT) (2011-12) Ach.': 'Traffic_Achieved'},inplace = True)\n",
    "df.rename(columns = {'Total Capacity  in Eleventh Plan (MT) (2011-12) Ach.': 'Total_Capacity_Achieved'},inplace = True)\n",
    "df.rename(columns = {'Total Capacity  in Eleventh Plan (MT) (2011-12) Proj.':'Total_Capacity_Projected'},inplace = True)\n"
   ]
  },
  {
   "cell_type": "markdown",
   "metadata": {},
   "source": [
    "# Preparing Calculation"
   ]
  },
  {
   "cell_type": "code",
   "execution_count": 19,
   "metadata": {},
   "outputs": [
    {
     "data": {
      "text/plain": [
       "0     91.06\n",
       "1     69.69\n",
       "2     71.01\n",
       "3     82.02\n",
       "4     31.83\n",
       "5     96.89\n",
       "6     88.59\n",
       "7     52.66\n",
       "8     67.49\n",
       "9     87.54\n",
       "10    79.07\n",
       "11    99.56\n",
       "12    95.13\n",
       "dtype: float64"
      ]
     },
     "execution_count": 19,
     "metadata": {},
     "output_type": "execute_result"
    }
   ],
   "source": [
    "Traffic_Percent =round((df.Traffic_Achieved/df.Traffic_Projected)*100,2)\n",
    "Traffic_Percent"
   ]
  },
  {
   "cell_type": "code",
   "execution_count": 20,
   "metadata": {},
   "outputs": [
    {
     "data": {
      "text/plain": [
       "0      51.99\n",
       "1      79.97\n",
       "2      71.90\n",
       "3      67.47\n",
       "4      48.29\n",
       "5     110.26\n",
       "6      52.11\n",
       "7      74.85\n",
       "8      84.25\n",
       "9      62.63\n",
       "10     48.45\n",
       "11     66.95\n",
       "12     71.12\n",
       "dtype: float64"
      ]
     },
     "execution_count": 20,
     "metadata": {},
     "output_type": "execute_result"
    }
   ],
   "source": [
    "Total_Percent =round( (df.Total_Capacity_Achieved/df.Total_Capacity_Projected)*100,2)\n",
    "Total_Percent"
   ]
  },
  {
   "cell_type": "markdown",
   "metadata": {},
   "source": [
    "**Replacing the existing columns with newly created columns**"
   ]
  },
  {
   "cell_type": "code",
   "execution_count": 21,
   "metadata": {},
   "outputs": [
    {
     "data": {
      "text/html": [
       "<div>\n",
       "<style scoped>\n",
       "    .dataframe tbody tr th:only-of-type {\n",
       "        vertical-align: middle;\n",
       "    }\n",
       "\n",
       "    .dataframe tbody tr th {\n",
       "        vertical-align: top;\n",
       "    }\n",
       "\n",
       "    .dataframe thead th {\n",
       "        text-align: right;\n",
       "    }\n",
       "</style>\n",
       "<table border=\"1\" class=\"dataframe\">\n",
       "  <thead>\n",
       "    <tr style=\"text-align: right;\">\n",
       "      <th></th>\n",
       "      <th>Port</th>\n",
       "      <th>Traffic_Projected</th>\n",
       "      <th>Traffic_Achieved</th>\n",
       "      <th>Traffic_Percent%</th>\n",
       "      <th>Total_Capacity_Projected</th>\n",
       "      <th>Total_Capacity_Achieved</th>\n",
       "      <th>Total_Percent%</th>\n",
       "    </tr>\n",
       "  </thead>\n",
       "  <tbody>\n",
       "    <tr>\n",
       "      <th>0</th>\n",
       "      <td>Kolkata</td>\n",
       "      <td>1343</td>\n",
       "      <td>1223</td>\n",
       "      <td>91.06</td>\n",
       "      <td>3145</td>\n",
       "      <td>1635</td>\n",
       "      <td>51.99</td>\n",
       "    </tr>\n",
       "    <tr>\n",
       "      <th>1</th>\n",
       "      <td>Haldia</td>\n",
       "      <td>4450</td>\n",
       "      <td>3101</td>\n",
       "      <td>69.69</td>\n",
       "      <td>6340</td>\n",
       "      <td>5070</td>\n",
       "      <td>79.97</td>\n",
       "    </tr>\n",
       "    <tr>\n",
       "      <th>2</th>\n",
       "      <td>Paradeep</td>\n",
       "      <td>7640</td>\n",
       "      <td>5425</td>\n",
       "      <td>71.01</td>\n",
       "      <td>10640</td>\n",
       "      <td>7650</td>\n",
       "      <td>71.90</td>\n",
       "    </tr>\n",
       "    <tr>\n",
       "      <th>3</th>\n",
       "      <td>Visakhapatnam</td>\n",
       "      <td>8220</td>\n",
       "      <td>6742</td>\n",
       "      <td>82.02</td>\n",
       "      <td>10810</td>\n",
       "      <td>7293</td>\n",
       "      <td>67.47</td>\n",
       "    </tr>\n",
       "    <tr>\n",
       "      <th>4</th>\n",
       "      <td>Ennore</td>\n",
       "      <td>4700</td>\n",
       "      <td>1496</td>\n",
       "      <td>31.83</td>\n",
       "      <td>6420</td>\n",
       "      <td>3100</td>\n",
       "      <td>48.29</td>\n",
       "    </tr>\n",
       "    <tr>\n",
       "      <th>5</th>\n",
       "      <td>Chennai</td>\n",
       "      <td>5750</td>\n",
       "      <td>5571</td>\n",
       "      <td>96.89</td>\n",
       "      <td>7230</td>\n",
       "      <td>7972</td>\n",
       "      <td>110.26</td>\n",
       "    </tr>\n",
       "    <tr>\n",
       "      <th>6</th>\n",
       "      <td>Tuticorin</td>\n",
       "      <td>3172</td>\n",
       "      <td>2810</td>\n",
       "      <td>88.59</td>\n",
       "      <td>6398</td>\n",
       "      <td>3334</td>\n",
       "      <td>52.11</td>\n",
       "    </tr>\n",
       "    <tr>\n",
       "      <th>7</th>\n",
       "      <td>Cochin</td>\n",
       "      <td>3817</td>\n",
       "      <td>2010</td>\n",
       "      <td>52.66</td>\n",
       "      <td>5475</td>\n",
       "      <td>4098</td>\n",
       "      <td>74.85</td>\n",
       "    </tr>\n",
       "    <tr>\n",
       "      <th>8</th>\n",
       "      <td>NMPT</td>\n",
       "      <td>4881</td>\n",
       "      <td>3294</td>\n",
       "      <td>67.49</td>\n",
       "      <td>6050</td>\n",
       "      <td>5097</td>\n",
       "      <td>84.25</td>\n",
       "    </tr>\n",
       "    <tr>\n",
       "      <th>9</th>\n",
       "      <td>Mormugao</td>\n",
       "      <td>4455</td>\n",
       "      <td>3900</td>\n",
       "      <td>87.54</td>\n",
       "      <td>6690</td>\n",
       "      <td>4190</td>\n",
       "      <td>62.63</td>\n",
       "    </tr>\n",
       "    <tr>\n",
       "      <th>10</th>\n",
       "      <td>Mumbai</td>\n",
       "      <td>7105</td>\n",
       "      <td>5618</td>\n",
       "      <td>79.07</td>\n",
       "      <td>9191</td>\n",
       "      <td>4453</td>\n",
       "      <td>48.45</td>\n",
       "    </tr>\n",
       "    <tr>\n",
       "      <th>11</th>\n",
       "      <td>JNPT</td>\n",
       "      <td>6604</td>\n",
       "      <td>6575</td>\n",
       "      <td>99.56</td>\n",
       "      <td>9560</td>\n",
       "      <td>6400</td>\n",
       "      <td>66.95</td>\n",
       "    </tr>\n",
       "    <tr>\n",
       "      <th>12</th>\n",
       "      <td>Kandla</td>\n",
       "      <td>8672</td>\n",
       "      <td>8250</td>\n",
       "      <td>95.13</td>\n",
       "      <td>12220</td>\n",
       "      <td>8691</td>\n",
       "      <td>71.12</td>\n",
       "    </tr>\n",
       "  </tbody>\n",
       "</table>\n",
       "</div>"
      ],
      "text/plain": [
       "             Port  Traffic_Projected  Traffic_Achieved  Traffic_Percent%  \\\n",
       "0         Kolkata               1343              1223             91.06   \n",
       "1          Haldia               4450              3101             69.69   \n",
       "2        Paradeep               7640              5425             71.01   \n",
       "3   Visakhapatnam               8220              6742             82.02   \n",
       "4          Ennore               4700              1496             31.83   \n",
       "5         Chennai               5750              5571             96.89   \n",
       "6       Tuticorin               3172              2810             88.59   \n",
       "7          Cochin               3817              2010             52.66   \n",
       "8            NMPT               4881              3294             67.49   \n",
       "9        Mormugao               4455              3900             87.54   \n",
       "10         Mumbai               7105              5618             79.07   \n",
       "11           JNPT               6604              6575             99.56   \n",
       "12         Kandla               8672              8250             95.13   \n",
       "\n",
       "    Total_Capacity_Projected  Total_Capacity_Achieved  Total_Percent%  \n",
       "0                       3145                     1635           51.99  \n",
       "1                       6340                     5070           79.97  \n",
       "2                      10640                     7650           71.90  \n",
       "3                      10810                     7293           67.47  \n",
       "4                       6420                     3100           48.29  \n",
       "5                       7230                     7972          110.26  \n",
       "6                       6398                     3334           52.11  \n",
       "7                       5475                     4098           74.85  \n",
       "8                       6050                     5097           84.25  \n",
       "9                       6690                     4190           62.63  \n",
       "10                      9191                     4453           48.45  \n",
       "11                      9560                     6400           66.95  \n",
       "12                     12220                     8691           71.12  "
      ]
     },
     "execution_count": 21,
     "metadata": {},
     "output_type": "execute_result"
    }
   ],
   "source": [
    "df.rename(columns = {'Traffic in Eleventh Plan (MT) (2011-12) %':'Traffic_Percent%','Total Capacity  in Eleventh Plan (MT) (2011-12) %':'Total_Percent%'}, inplace = True)\n",
    "df.iloc[:,3:4] = Traffic_Percent\n",
    "df.iloc[:,6:] = Total_Percent\n",
    "df"
   ]
  },
  {
   "cell_type": "markdown",
   "metadata": {},
   "source": [
    "**Checking for null values**"
   ]
  },
  {
   "cell_type": "code",
   "execution_count": 22,
   "metadata": {},
   "outputs": [
    {
     "data": {
      "text/plain": [
       "Port                        0\n",
       "Traffic_Projected           0\n",
       "Traffic_Achieved            0\n",
       "Traffic_Percent%            0\n",
       "Total_Capacity_Projected    0\n",
       "Total_Capacity_Achieved     0\n",
       "Total_Percent%              0\n",
       "dtype: int64"
      ]
     },
     "execution_count": 22,
     "metadata": {},
     "output_type": "execute_result"
    }
   ],
   "source": [
    "df.isnull().sum()"
   ]
  },
  {
   "cell_type": "markdown",
   "metadata": {},
   "source": [
    "**Finding Outliers anr replacing the outliers**"
   ]
  },
  {
   "cell_type": "code",
   "execution_count": 23,
   "metadata": {},
   "outputs": [
    {
     "data": {
      "text/plain": [
       "<AxesSubplot:xlabel='Port', ylabel='Traffic_Projected'>"
      ]
     },
     "execution_count": 23,
     "metadata": {},
     "output_type": "execute_result"
    },
    {
     "data": {
      "image/png": "[encoded data removed]",
      "text/plain": [
       "<Figure size 432x288 with 1 Axes>"
      ]
     },
     "metadata": {
      "needs_background": "light"
     },
     "output_type": "display_data"
    }
   ],
   "source": [
    "sns.boxplot(x='Port',y='Traffic_Projected',data=df)"
   ]
  },
  {
   "cell_type": "markdown",
   "metadata": {},
   "source": [
    "**Check For Categorical Columns and do encoding**"
   ]
  },
  {
   "cell_type": "code",
   "execution_count": 24,
   "metadata": {},
   "outputs": [
    {
     "name": "stdout",
     "output_type": "stream",
     "text": [
      "Visakhapatnam    1\n",
      "Cochin           1\n",
      "Ennore           1\n",
      "Haldia           1\n",
      "Kolkata          1\n",
      "Mormugao         1\n",
      "Tuticorin        1\n",
      "Mumbai           1\n",
      "Paradeep         1\n",
      "NMPT             1\n",
      "JNPT             1\n",
      "Kandla           1\n",
      "Chennai          1\n",
      "Name: Port, dtype: int64\n",
      "0     1\n",
      "1     1\n",
      "2     1\n",
      "3     1\n",
      "4     1\n",
      "5     1\n",
      "6     1\n",
      "7     1\n",
      "8     1\n",
      "9     1\n",
      "10    1\n",
      "11    1\n",
      "12    1\n",
      "Name: Port, dtype: int64\n"
     ]
    }
   ],
   "source": [
    "from sklearn.preprocessing import LabelEncoder\n",
    "le = LabelEncoder()\n",
    "print(df.Port.value_counts())\n",
    "\n",
    "df.Port = le.fit_transform(df.Port)\n",
    "print(df.Port.value_counts())"
   ]
  },
  {
   "cell_type": "code",
   "execution_count": null,
   "metadata": {},
   "outputs": [],
   "source": []
  }
 ],
 "metadata": {
  "kernelspec": {
   "display_name": "Python 3",
   "language": "python",
   "name": "python3"
  },
  "language_info": {
   "codemirror_mode": {
    "name": "ipython",
    "version": 3
   },
   "file_extension": ".py",
   "mimetype": "text/x-python",
   "name": "python",
   "nbconvert_exporter": "python",
   "pygments_lexer": "ipython3",
   "version": "3.8.3"
  }
 },
 "nbformat": 4,
 "nbformat_minor": 4
}
