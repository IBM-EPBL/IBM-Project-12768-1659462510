{
  "nbformat": 4,
  "nbformat_minor": 0,
  "metadata": {
    "colab": {
      "provenance": [],
      "collapsed_sections": []
    },
    "kernelspec": {
      "name": "python3",
      "display_name": "Python 3"
    },
    "language_info": {
      "name": "python"
    }
  },
  "cells": [
    {
      "cell_type": "code",
      "execution_count": null,
      "metadata": {
        "id": "0xh4UhgLE9Gm"
      },
      "outputs": [],
      "source": []
    },
    {
      "cell_type": "markdown",
      "source": [
        "**ASSIGNMENT 3**"
      ],
      "metadata": {
        "id": "wgSF5ROHF4nu"
      }
    },
    {
      "cell_type": "markdown",
      "source": [
        "NAME: Mathesh Raju\n"
      ],
      "metadata": {
        "id": "LgLyPJnSFHLA"
      }
    },
    {
      "cell_type": "markdown",
      "source": [
        "# Exercises"
      ],
      "metadata": {
        "id": "kYqvHfk-GItD"
      }
    },
    {
      "cell_type": "markdown",
      "source": [
        "Answer the questions or complete the tasks outlined in bold below, use the specific method described if applicable."
      ],
      "metadata": {
        "id": "lKvue3p1GMnX"
      }
    },
    {
      "cell_type": "markdown",
      "source": [
        "**What is 7 to the power of 4?**"
      ],
      "metadata": {
        "id": "M676hZBtGRgg"
      }
    },
    {
      "cell_type": "code",
      "source": [
        "print(7**4)"
      ],
      "metadata": {
        "colab": {
          "base_uri": "https://localhost:8080/"
        },
        "id": "MrhohA4HGbYg",
        "outputId": "d8394a17-7597-4fff-c0d8-3231b9120268"
      },
      "execution_count": null,
      "outputs": [
        {
          "output_type": "stream",
          "name": "stdout",
          "text": [
            "2401\n"
          ]
        }
      ]
    },
    {
      "cell_type": "markdown",
      "source": [
        "**Split this string:**"
      ],
      "metadata": {
        "id": "1rBXNDpKGouJ"
      }
    },
    {
      "cell_type": "code",
      "source": [
        "txt = \"Hi there sam!\""
      ],
      "metadata": {
        "id": "UyfyhDSnGrPO"
      },
      "execution_count": null,
      "outputs": []
    },
    {
      "cell_type": "code",
      "source": [
        "print(txt.split())"
      ],
      "metadata": {
        "colab": {
          "base_uri": "https://localhost:8080/"
        },
        "id": "Ux9eHEqAFwF9",
        "outputId": "e604c555-8acd-42a8-8820-8a066a333ebf"
      },
      "execution_count": null,
      "outputs": [
        {
          "output_type": "stream",
          "name": "stdout",
          "text": [
            "['Hi', 'there', 'sam!']\n"
          ]
        }
      ]
    },
    {
      "cell_type": "markdown",
      "source": [
        "**Given the variables:**"
      ],
      "metadata": {
        "id": "rKcungkMG4fy"
      }
    },
    {
      "cell_type": "code",
      "source": [
        "planet = \"Earth\"\n",
        "diameter = 12742"
      ],
      "metadata": {
        "id": "l2HoaHgkHA5e"
      },
      "execution_count": null,
      "outputs": []
    },
    {
      "cell_type": "markdown",
      "source": [
        "**Use .format() to print the following string:**"
      ],
      "metadata": {
        "id": "rapcabO3HFml"
      }
    },
    {
      "cell_type": "code",
      "source": [
        "print(\"The diameter of {} is {} kilometers.\".format(planet,diameter))"
      ],
      "metadata": {
        "colab": {
          "base_uri": "https://localhost:8080/"
        },
        "id": "zVTrGKWLHJC-",
        "outputId": "21a3452e-ae72-4aec-acbe-4ce27917b88f"
      },
      "execution_count": null,
      "outputs": [
        {
          "output_type": "stream",
          "name": "stdout",
          "text": [
            "The diameter of Earth is 12742 kilometers.\n"
          ]
        }
      ]
    },
    {
      "cell_type": "markdown",
      "source": [
        "**Given this nested list, use indexing to grab the word \"hello\"**"
      ],
      "metadata": {
        "id": "TUTKMyaCHTGx"
      }
    },
    {
      "cell_type": "code",
      "source": [
        "lst_prnt = [1,2,[3,4],[5,[100,200,['hello']],23,11],1,7]\n"
      ],
      "metadata": {
        "id": "WoXKKwRbHVcz"
      },
      "execution_count": null,
      "outputs": []
    },
    {
      "cell_type": "code",
      "source": [
        "print(lst_prnt[3][1][2][0])"
      ],
      "metadata": {
        "colab": {
          "base_uri": "https://localhost:8080/"
        },
        "id": "5dTj5Wc8Hr_X",
        "outputId": "af5a4127-de22-48ef-86c9-7cc8ea01eb7c"
      },
      "execution_count": null,
      "outputs": [
        {
          "output_type": "stream",
          "name": "stdout",
          "text": [
            "hello\n"
          ]
        }
      ]
    },
    {
      "cell_type": "markdown",
      "source": [
        "**Given this nest dictionary grab the word \"hello\". Be prepared, this will be annoying/tricky**"
      ],
      "metadata": {
        "id": "ajP1CvycIIP_"
      }
    },
    {
      "cell_type": "code",
      "source": [
        "d = {'k1':[1,2,3,{'tricky':['oh','man','inception',{'target':[1,2,3,'hello']}]}]}"
      ],
      "metadata": {
        "id": "WD5mn9YdIPJP"
      },
      "execution_count": null,
      "outputs": []
    },
    {
      "cell_type": "code",
      "source": [
        "print(d['k1'][3][\"tricky\"][3]['target'][3])"
      ],
      "metadata": {
        "colab": {
          "base_uri": "https://localhost:8080/"
        },
        "id": "-MrECeo_Ihr8",
        "outputId": "ac2f9da8-fa11-4f3f-b27f-50dac9f3067e"
      },
      "execution_count": null,
      "outputs": [
        {
          "output_type": "stream",
          "name": "stdout",
          "text": [
            "hello\n"
          ]
        }
      ]
    },
    {
      "cell_type": "markdown",
      "source": [
        "**What is the main difference between a tuple and a list?**"
      ],
      "metadata": {
        "id": "TgX6qMMZIqTF"
      }
    },
    {
      "cell_type": "markdown",
      "source": [
        "**Create a function that grabs the email website domain from a string in the form:**"
      ],
      "metadata": {
        "id": "jjFNY_-nI6qV"
      }
    },
    {
      "cell_type": "markdown",
      "source": [
        "user@domain.com\n"
      ],
      "metadata": {
        "id": "auJHL58NI-MS"
      }
    },
    {
      "cell_type": "markdown",
      "source": [
        "**So for example, passing \"user@domain.com\" would return: domain.com**"
      ],
      "metadata": {
        "id": "PKLODCWHJHBE"
      }
    },
    {
      "cell_type": "code",
      "source": [
        "def domainGet(email):\n",
        "  return email.split('@')[1]"
      ],
      "metadata": {
        "id": "cXOoPIfyIs0N"
      },
      "execution_count": null,
      "outputs": []
    },
    {
      "cell_type": "code",
      "source": [
        "domainGet('user@domain.com')"
      ],
      "metadata": {
        "colab": {
          "base_uri": "https://localhost:8080/",
          "height": 35
        },
        "id": "EiTWK-TdJyDr",
        "outputId": "ac536b4b-d938-4e69-cf85-6a08dd64a659"
      },
      "execution_count": null,
      "outputs": [
        {
          "output_type": "execute_result",
          "data": {
            "text/plain": [
              "'domain.com'"
            ],
            "application/vnd.google.colaboratory.intrinsic+json": {
              "type": "string"
            }
          },
          "metadata": {},
          "execution_count": 16
        }
      ]
    },
    {
      "cell_type": "markdown",
      "source": [
        "**Create a basic function that returns True if the word 'dog' is contained in the input string. Don't worry about edge cases like a punctuation being attached to the word dog, but do account for capitalization.**"
      ],
      "metadata": {
        "id": "3Yku_jXkJ7gi"
      }
    },
    {
      "cell_type": "code",
      "source": [
        "def find_dog(inpu):\n",
        "  return 'dog' in inpu.lower().split()"
      ],
      "metadata": {
        "id": "dP7IJMaEKL3F"
      },
      "execution_count": 7,
      "outputs": []
    },
    {
      "cell_type": "code",
      "source": [
        "find_dog('My dog name is shiro')\n"
      ],
      "metadata": {
        "colab": {
          "base_uri": "https://localhost:8080/"
        },
        "id": "6fOdLf1ZEgGU",
        "outputId": "edc3c69c-5d79-4786-8aff-b5da1275cd26"
      },
      "execution_count": 8,
      "outputs": [
        {
          "output_type": "execute_result",
          "data": {
            "text/plain": [
              "True"
            ]
          },
          "metadata": {},
          "execution_count": 8
        }
      ]
    },
    {
      "cell_type": "markdown",
      "source": [
        "**Create a function that counts the number of times the word \"dog\" occurs in a string. Again ignore edge cases.**"
      ],
      "metadata": {
        "id": "GnlGywoiE0j2"
      }
    },
    {
      "cell_type": "code",
      "source": [
        "def countdog(inp):\n",
        "  dog = 0\n",
        "  for x in inp.lower().split():\n",
        "    if x == 'dog':\n",
        "      dog += 1\n",
        "  return dog"
      ],
      "metadata": {
        "id": "Ylgyr7LlE23x"
      },
      "execution_count": 9,
      "outputs": []
    },
    {
      "cell_type": "code",
      "source": [
        "countdog('dog barks at other dog in the group of dog')"
      ],
      "metadata": {
        "colab": {
          "base_uri": "https://localhost:8080/"
        },
        "id": "SQ0tnfGFFgF5",
        "outputId": "702b3ac1-b445-4007-de5a-107aa6c8568f"
      },
      "execution_count": 10,
      "outputs": [
        {
          "output_type": "execute_result",
          "data": {
            "text/plain": [
              "3"
            ]
          },
          "metadata": {},
          "execution_count": 10
        }
      ]
    },
    {
      "cell_type": "markdown",
      "source": [
        "# Problem"
      ],
      "metadata": {
        "id": "sNKewPWLFzgD"
      }
    },
    {
      "cell_type": "markdown",
      "source": [
        "**You are driving a little too fast, and a police officer stops you. Write a function to return one of 3 possible results: \"No ticket\", \"Small ticket\", or \"Big Ticket\". If your speed is 60 or less, the result is \"No Ticket\". If speed is between 61 and 80 inclusive, the result is \"Small Ticket\". If speed is 81 or more, the result is \"Big Ticket\". Unless it is your birthday (encoded as a boolean value in the parameters of the function) -- on your birthday, your speed can be 5 higher in all cases.**"
      ],
      "metadata": {
        "id": "ai-lQjErF7sB"
      }
    },
    {
      "cell_type": "code",
      "source": [
        "def bike_speed(speed,birthday):\n",
        "  if(birthday):\n",
        "    speed=speed-5\n",
        "  if speed<= 60:\n",
        "    return 'No Ticket'\n",
        "  elif speed>=61 and speed<=80:\n",
        "    return 'Small Ticket'\n",
        "  elif speed>=81:\n",
        "    return 'Big Ticket'"
      ],
      "metadata": {
        "id": "qw253gVzGBU_"
      },
      "execution_count": 13,
      "outputs": []
    },
    {
      "cell_type": "code",
      "source": [
        "bike_speed(85,True)"
      ],
      "metadata": {
        "colab": {
          "base_uri": "https://localhost:8080/",
          "height": 35
        },
        "id": "XEsNgOUpJCg5",
        "outputId": "6c254f97-3355-4ea3-d29d-7e848fcb3770"
      },
      "execution_count": 14,
      "outputs": [
        {
          "output_type": "execute_result",
          "data": {
            "text/plain": [
              "'Small Ticket'"
            ],
            "application/vnd.google.colaboratory.intrinsic+json": {
              "type": "string"
            }
          },
          "metadata": {},
          "execution_count": 14
        }
      ]
    },
    {
      "cell_type": "code",
      "source": [
        "bike_speed(81,True)"
      ],
      "metadata": {
        "colab": {
          "base_uri": "https://localhost:8080/",
          "height": 35
        },
        "id": "4eHNRhN7JL6u",
        "outputId": "ef8a1b51-36fd-4612-828b-1228b097886e"
      },
      "execution_count": 15,
      "outputs": [
        {
          "output_type": "execute_result",
          "data": {
            "text/plain": [
              "'Small Ticket'"
            ],
            "application/vnd.google.colaboratory.intrinsic+json": {
              "type": "string"
            }
          },
          "metadata": {},
          "execution_count": 15
        }
      ]
    },
    {
      "cell_type": "code",
      "source": [
        "bike_speed(90,False)"
      ],
      "metadata": {
        "colab": {
          "base_uri": "https://localhost:8080/",
          "height": 35
        },
        "id": "vbpLwQZ9KELm",
        "outputId": "f9bf3326-005f-4a0f-acd3-ec1d46b6e5da"
      },
      "execution_count": 16,
      "outputs": [
        {
          "output_type": "execute_result",
          "data": {
            "text/plain": [
              "'Big Ticket'"
            ],
            "application/vnd.google.colaboratory.intrinsic+json": {
              "type": "string"
            }
          },
          "metadata": {},
          "execution_count": 16
        }
      ]
    },
    {
      "cell_type": "code",
      "source": [
        "bike_speed(61,True)"
      ],
      "metadata": {
        "colab": {
          "base_uri": "https://localhost:8080/",
          "height": 35
        },
        "id": "nQLPQ0UQKKlz",
        "outputId": "0d3de9d0-1ab8-45a1-acc6-dbf5f93ba782"
      },
      "execution_count": 18,
      "outputs": [
        {
          "output_type": "execute_result",
          "data": {
            "text/plain": [
              "'No Ticket'"
            ],
            "application/vnd.google.colaboratory.intrinsic+json": {
              "type": "string"
            }
          },
          "metadata": {},
          "execution_count": 18
        }
      ]
    },
    {
      "cell_type": "markdown",
      "source": [
        "**Create an employee list with basic salary values(at least 5 values for 5 employees) and using a for loop retreive each employee salary and calculate total salary expenditure.**"
      ],
      "metadata": {
        "id": "N4kqV5_3KXGh"
      }
    },
    {
      "cell_type": "code",
      "source": [
        "num = [55000, 97800, 89000, 91800, 32300]\n",
        "sum = 0\n",
        "for i in num:\n",
        "  sum = sum + i\n",
        "print(\"Total salary expenditure:\", sum)"
      ],
      "metadata": {
        "colab": {
          "base_uri": "https://localhost:8080/"
        },
        "id": "9-5Kr-rVKPlA",
        "outputId": "f316461f-172c-4a51-f778-0a419931a572"
      },
      "execution_count": 26,
      "outputs": [
        {
          "output_type": "stream",
          "name": "stdout",
          "text": [
            "Total salary expenditure: 365900\n"
          ]
        }
      ]
    },
    {
      "cell_type": "markdown",
      "source": [
        "Create two dictionaries in Python:\n",
        "\n",
        "First one to contain fields as Empid, Empname, Basicpay\n",
        "\n",
        "Second dictionary to contain fields as DeptName, DeptId.\n",
        "\n",
        "Combine both dictionaries."
      ],
      "metadata": {
        "id": "VIZ71TyuK4Ji"
      }
    },
    {
      "cell_type": "code",
      "source": [
        "def Merge(dic1, dic2):\n",
        "  res = {**dic1, **dic2}\n",
        "  return res\n",
        "dic1 = {'Empid' :22, 'Empname' :'Jeya', 'Basicpay' :44000}\n",
        "dic2 = {'DeptName' :'Finance', 'DeptId' :10}\n",
        "dic3 = Merge(dic1, dic2)\n",
        "print(dic3)"
      ],
      "metadata": {
        "colab": {
          "base_uri": "https://localhost:8080/"
        },
        "id": "-EJVmslHLC1L",
        "outputId": "e35aa69c-ca45-4326-b608-7a7a096cccb7"
      },
      "execution_count": 25,
      "outputs": [
        {
          "output_type": "stream",
          "name": "stdout",
          "text": [
            "{'Empid': 22, 'Empname': 'Jeya', 'Basicpay': 44000, 'DeptName': 'Finance', 'DeptId': 10}\n"
          ]
        }
      ]
    }
  ]
}